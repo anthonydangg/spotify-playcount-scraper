{
 "cells": [
  {
   "cell_type": "code",
   "execution_count": 25,
   "metadata": {},
   "outputs": [],
   "source": [
    "from bs4 import BeautifulSoup\n",
    "import requests\n",
    "import lxml\n",
    "import time"
   ]
  },
  {
   "cell_type": "code",
   "execution_count": 4,
   "metadata": {},
   "outputs": [],
   "source": [
    "from selenium import webdriver\n",
    "from selenium.webdriver.common.keys import Keys\n",
    "import pandas as pd"
   ]
  },
  {
   "cell_type": "code",
   "execution_count": 21,
   "metadata": {},
   "outputs": [],
   "source": [
    "from selenium.webdriver.common.by import By\n",
    "from selenium.webdriver.chrome.service import Service\n",
    "from selenium.webdriver.chrome.options import Options"
   ]
  },
  {
   "cell_type": "code",
   "execution_count": 44,
   "metadata": {},
   "outputs": [],
   "source": [
    "driver = webdriver.Chrome()\n",
    "driver.get('https://open.spotify.com/album/45ba6QAtNrdv6Ke4MFOKk9')"
   ]
  },
  {
   "cell_type": "markdown",
   "metadata": {},
   "source": [
    "#get links for all songs in the album in a list\n",
    "#extract streams after going into each link"
   ]
  },
  {
   "cell_type": "code",
   "execution_count": 45,
   "metadata": {},
   "outputs": [],
   "source": [
    "track_elements = driver.find_elements(By.CSS_SELECTOR, 'a[data-testid=\"internal-track-link\"]')"
   ]
  },
  {
   "cell_type": "code",
   "execution_count": 46,
   "metadata": {},
   "outputs": [],
   "source": [
    "track_links = [track.get_attribute('href') for track in track_elements]"
   ]
  },
  {
   "cell_type": "code",
   "execution_count": 47,
   "metadata": {},
   "outputs": [
    {
     "name": "stdout",
     "output_type": "stream",
     "text": [
      "SIR BAUDELAIRE (feat. DJ Drama) 85,756,772\n",
      "CORSO 110,524,176\n",
      "LEMONHEAD (feat. 42 Dugg) 112,386,302\n",
      "WUSYANAME (feat. Youngboy Never Broke Again & Ty Dolla $ign) 346,032,113\n",
      "LUMBERJACK 144,754,546\n",
      "HOT WIND BLOWS (feat. Lil Wayne) 127,280,379\n",
      "MASSA 71,808,301\n",
      "RUNITUP (feat. Teezo Touchdown) 75,353,365\n",
      "MANIFESTO (feat. Domo Genesis) 51,680,446\n",
      "SWEET / I THOUGHT YOU WANTED TO DANCE (feat. Brent Faiyaz & Fana Hues) 284,751,232\n",
      "MOMMA TALK 26,399,314\n",
      "RISE! (feat. DAISY WORLD) 57,012,851\n",
      "BLESSED 40,662,483\n",
      "JUGGERNAUT (feat. Lil Uzi Vert & Pharrell Williams) 143,964,968\n",
      "WILSHIRE 79,506,423\n",
      "SAFARI 53,703,927\n"
     ]
    }
   ],
   "source": [
    "track_streams = {}\n",
    "\n",
    "for link in track_links:\n",
    "    driver.get(link)\n",
    "    time.sleep(5)\n",
    "\n",
    "    track_name = driver.find_element(By.CSS_SELECTOR, 'h1[data-encore-id=\"text\"]').text\n",
    "    playcount = driver.find_element(By.CSS_SELECTOR, 'span[data-testid=\"playcount\"]').text\n",
    "    print(track_name, playcount)\n",
    "    track_streams[track_name] = playcount"
   ]
  },
  {
   "cell_type": "code",
   "execution_count": 48,
   "metadata": {},
   "outputs": [],
   "source": [
    "driver.quit()"
   ]
  },
  {
   "cell_type": "code",
   "execution_count": 49,
   "metadata": {},
   "outputs": [
    {
     "data": {
      "text/plain": [
       "{'SIR BAUDELAIRE (feat. DJ Drama)': '85,756,772',\n",
       " 'CORSO': '110,524,176',\n",
       " 'LEMONHEAD (feat. 42 Dugg)': '112,386,302',\n",
       " 'WUSYANAME (feat. Youngboy Never Broke Again & Ty Dolla $ign)': '346,032,113',\n",
       " 'LUMBERJACK': '144,754,546',\n",
       " 'HOT WIND BLOWS (feat. Lil Wayne)': '127,280,379',\n",
       " 'MASSA': '71,808,301',\n",
       " 'RUNITUP (feat. Teezo Touchdown)': '75,353,365',\n",
       " 'MANIFESTO (feat. Domo Genesis)': '51,680,446',\n",
       " 'SWEET / I THOUGHT YOU WANTED TO DANCE (feat. Brent Faiyaz & Fana Hues)': '284,751,232',\n",
       " 'MOMMA TALK': '26,399,314',\n",
       " 'RISE! (feat. DAISY WORLD)': '57,012,851',\n",
       " 'BLESSED': '40,662,483',\n",
       " 'JUGGERNAUT (feat. Lil Uzi Vert & Pharrell Williams)': '143,964,968',\n",
       " 'WILSHIRE': '79,506,423',\n",
       " 'SAFARI': '53,703,927'}"
      ]
     },
     "execution_count": 49,
     "metadata": {},
     "output_type": "execute_result"
    }
   ],
   "source": [
    "track_streams"
   ]
  }
 ],
 "metadata": {
  "kernelspec": {
   "display_name": ".venv",
   "language": "python",
   "name": "python3"
  },
  "language_info": {
   "codemirror_mode": {
    "name": "ipython",
    "version": 3
   },
   "file_extension": ".py",
   "mimetype": "text/x-python",
   "name": "python",
   "nbconvert_exporter": "python",
   "pygments_lexer": "ipython3",
   "version": "3.10.2"
  }
 },
 "nbformat": 4,
 "nbformat_minor": 2
}
